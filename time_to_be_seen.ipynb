{
 "cells": [
  {
   "cell_type": "markdown",
   "metadata": {},
   "source": [
    "# Publication chart - Minute to first be seen."
   ]
  },
  {
   "cell_type": "code",
   "execution_count": null,
   "metadata": {
    "collapsed": true
   },
   "outputs": [],
   "source": [
    "import pandas as pd\n",
    "import matplotlib.pyplot as plt\n",
    "import seaborn as sns"
   ]
  },
  {
   "cell_type": "code",
   "execution_count": null,
   "metadata": {
    "collapsed": true
   },
   "outputs": [],
   "source": [
    "%matplotlib inline"
   ]
  },
  {
   "cell_type": "code",
   "execution_count": null,
   "metadata": {
    "collapsed": false
   },
   "outputs": [],
   "source": [
    "df = pd.read_csv('time_to_be_seen.csv')\n",
    "df = df.rename(index = str, columns = {'Time to first doctor' : 'Mins to first doctor'})\n",
    "df"
   ]
  },
  {
   "cell_type": "code",
   "execution_count": null,
   "metadata": {
    "collapsed": false
   },
   "outputs": [],
   "source": [
    "fig, ax = plt.subplots()\n",
    "\n",
    "bplot = sns.barplot(x = 'Hour of day', y = 'Mins to first doctor', data = df, color = 'black', ax=ax)\n",
    "ax.set_ylabel('Mean mins to first doctor', fontsize=12)"
   ]
  },
  {
   "cell_type": "code",
   "execution_count": null,
   "metadata": {
    "collapsed": false
   },
   "outputs": [],
   "source": [
    "fig = bplot.get_figure()\n",
    "fig.savefig(\"time_to_be_seen.tif\", format = 'tif', dpi=300)"
   ]
  },
  {
   "cell_type": "code",
   "execution_count": null,
   "metadata": {
    "collapsed": false
   },
   "outputs": [],
   "source": [
    "heat = sns.palplot(sns.color_palette(\"YlOrRd\", 10))\n",
    "sns.set_palette(heat)"
   ]
  },
  {
   "cell_type": "code",
   "execution_count": null,
   "metadata": {
    "collapsed": false
   },
   "outputs": [],
   "source": [
    "sns.barplot( x = 'Hour of day', y = 'Mins to first doctor', data = df, palette = sns.color_palette(\"YlOrRd\", 24))"
   ]
  },
  {
   "cell_type": "code",
   "execution_count": null,
   "metadata": {
    "collapsed": false
   },
   "outputs": [],
   "source": [
    "#list of colormaps = https://matplotlib.org/users/colormaps.html\n",
    "norm = plt.Normalize(df[\"Mins to first doctor\"].values.min()-40, df[\"Mins to first doctor\"].values.max())\n",
    "colors = plt.cm.gist_yarg(norm(df[\"Mins to first doctor\"]))\n",
    "colors = plt.cm.YlOrRd(norm(df[\"Mins to first doctor\"]))\n",
    "bplot = sns.barplot( x = 'Hour of day', y = 'Mins to first doctor', data = df, palette = colors)"
   ]
  },
  {
   "cell_type": "code",
   "execution_count": null,
   "metadata": {
    "collapsed": true
   },
   "outputs": [],
   "source": [
    "fig = bplot.get_figure()\n",
    "fig.savefig(\"time_to_be_seen.tif\", format = 'tif', dpi=200)"
   ]
  }
 ],
 "metadata": {
  "kernelspec": {
   "display_name": "Python 3",
   "language": "python",
   "name": "python3"
  },
  "language_info": {
   "codemirror_mode": {
    "name": "ipython",
    "version": 3
   },
   "file_extension": ".py",
   "mimetype": "text/x-python",
   "name": "python",
   "nbconvert_exporter": "python",
   "pygments_lexer": "ipython3",
   "version": "3.6.0"
  }
 },
 "nbformat": 4,
 "nbformat_minor": 2
}
