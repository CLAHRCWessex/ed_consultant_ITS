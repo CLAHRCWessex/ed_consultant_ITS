{
 "cells": [
  {
   "cell_type": "markdown",
   "metadata": {
    "collapsed": true
   },
   "source": [
    "# Publication chart - occupancy change"
   ]
  },
  {
   "cell_type": "code",
   "execution_count": null,
   "metadata": {
    "collapsed": true
   },
   "outputs": [],
   "source": [
    "import pandas as pd\n",
    "import matplotlib.pyplot as plt\n",
    "import seaborn as sns"
   ]
  },
  {
   "cell_type": "code",
   "execution_count": null,
   "metadata": {
    "collapsed": true
   },
   "outputs": [],
   "source": [
    "%matplotlib inline"
   ]
  },
  {
   "cell_type": "code",
   "execution_count": null,
   "metadata": {
    "collapsed": false
   },
   "outputs": [],
   "source": [
    "df = pd.read_csv('delta_occ.csv')\n",
    "df = df.rename(index = str, columns = {'Hour': 'Hour of day', 'dela_occ': 'Delta Occupancy'})\n"
   ]
  },
  {
   "cell_type": "code",
   "execution_count": null,
   "metadata": {
    "collapsed": false
   },
   "outputs": [],
   "source": [
    "#norm = plt.Normalize(df[\"Delta Occupancy\"].values.min(), df[\"Delta Occupancy\"].values.max())\n",
    "#colors = plt.cm.reds(norm(df[\"Delta Occupancy\"]))\n",
    "#bplot = sns.barplot(x = df['Hour of day'], y = df['Delta Occupancy'], palette = colors)\n",
    "bplot = sns.barplot(x = df['Hour of day'], y = df['Delta Occupancy'], color='black')"
   ]
  },
  {
   "cell_type": "code",
   "execution_count": null,
   "metadata": {
    "collapsed": false
   },
   "outputs": [],
   "source": [
    "fig, ax = plt.subplots()\n",
    "\n",
    "#fig.set_size_inches(16, 9.25) # Optional, just adds 5% padding to the autoscaling\n",
    "bplot = sns.barplot(x = df['Hour of day'], y = df['Delta Occupancy'], color='black', ax =ax)\n",
    "ax.set_ylabel('Mean Occupancy Change', fontsize=12)\n"
   ]
  },
  {
   "cell_type": "code",
   "execution_count": null,
   "metadata": {
    "collapsed": false
   },
   "outputs": [],
   "source": [
    "#fig = bplot.get_figure()\n",
    "fig.savefig(\"delta_occ.tif\", format = 'tif', dpi=300)"
   ]
  },
  {
   "cell_type": "code",
   "execution_count": null,
   "metadata": {
    "collapsed": true
   },
   "outputs": [],
   "source": []
  }
 ],
 "metadata": {
  "kernelspec": {
   "display_name": "Python 3",
   "language": "python",
   "name": "python3"
  },
  "language_info": {
   "codemirror_mode": {
    "name": "ipython",
    "version": 3
   },
   "file_extension": ".py",
   "mimetype": "text/x-python",
   "name": "python",
   "nbconvert_exporter": "python",
   "pygments_lexer": "ipython3",
   "version": "3.6.0"
  }
 },
 "nbformat": 4,
 "nbformat_minor": 2
}
